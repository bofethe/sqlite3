{
 "cells": [
  {
   "cell_type": "markdown",
   "metadata": {},
   "source": [
    "# SQLite3"
   ]
  },
  {
   "cell_type": "markdown",
   "metadata": {},
   "source": [
    "## Introduction"
   ]
  },
  {
   "cell_type": "markdown",
   "metadata": {},
   "source": [
    "SQLite is a widely used, open-source relational database management system (RDBMS) that is known for its simplicity, portability, and efficiency. Unlike other database systems that rely on a separate server process, SQLite is embedded directly into applications, meaning that the entire database engine is contained within a single library, allowing for easy integration into programs. SQLite is particularly popular in environments where a full-scale database might be unnecessary, such as small to medium-sized applications, local storage in web browsers, or for development and testing purposes. For more information on SQLite, visit the website [here](https://www.sqlite.org).\n",
    "\n",
    "This tutorial focuses on how to use SQLite3 in python using the `sqlite3` library included as a [standard python library](https://docs.python.org/3/library/sqlite3.html)."
   ]
  },
  {
   "cell_type": "markdown",
   "metadata": {},
   "source": [
    "## Getting Started"
   ]
  },
  {
   "cell_type": "code",
   "execution_count": 1,
   "metadata": {},
   "outputs": [
    {
     "name": "stdout",
     "output_type": "stream",
     "text": [
      "sqlite3 version: 2.6.0\n"
     ]
    }
   ],
   "source": [
    "import pandas as pd\n",
    "import sqlite3\n",
    "\n",
    "print('sqlite3 version:', sqlite3.version)"
   ]
  },
  {
   "cell_type": "markdown",
   "metadata": {},
   "source": [
    "You can connect to a database by passing the name of the database. If a database does not exist, a new database will be created. SQLite3 also has the ability to run in memory by passing `:memory:` in place of the database name. This can be particularily useful for testing or in any other scenario where you need a fresh database each time a script is ran to avoid errors such as when you need to run a query to create table that may already exist otherwise."
   ]
  },
  {
   "cell_type": "code",
   "execution_count": 2,
   "metadata": {},
   "outputs": [],
   "source": [
    "conn = sqlite3.connect('sqlite-demo.db')"
   ]
  },
  {
   "cell_type": "markdown",
   "metadata": {},
   "source": [
    "In order to execute SQL statements and fetch results from SQL queries, you will need to use a database cursor using the established connection."
   ]
  },
  {
   "cell_type": "code",
   "execution_count": 3,
   "metadata": {},
   "outputs": [],
   "source": [
    "c = conn.cursor()"
   ]
  },
  {
   "cell_type": "markdown",
   "metadata": {},
   "source": [
    "## Working with tables"
   ]
  },
  {
   "cell_type": "markdown",
   "metadata": {},
   "source": [
    "You can execute sql queries by passing the query as a string.  For lengthy queries, consider using a docstring with added line breaks to increase readibility and to comply with [PEP8](https://peps.python.org/pep-0008). Since we have a new database, the cell below is creating a new table to store data for this tutorial."
   ]
  },
  {
   "cell_type": "code",
   "execution_count": 4,
   "metadata": {},
   "outputs": [
    {
     "data": {
      "text/plain": [
       "<sqlite3.Cursor at 0x1136c9d40>"
      ]
     },
     "execution_count": 4,
     "metadata": {},
     "output_type": "execute_result"
    }
   ],
   "source": [
    "query = 'CREATE TABLE food(name, meal, snack)'\n",
    "\n",
    "c.execute(query)"
   ]
  },
  {
   "cell_type": "markdown",
   "metadata": {},
   "source": [
    "By default, when you modify a table you need to commit your transaction to the database. This ensures data integrity and allows you to execute multiple statements before you commit all your modifications to the table as a single transaction as a layer of QA/QC. Additionally, if you need to return to a previous version, you can use `conn.rollback()`. If you need to enable autocommit for whatever reason, you can use `conn.autocommit()`, but be aware that you cannot use rollback if this is set."
   ]
  },
  {
   "cell_type": "code",
   "execution_count": 5,
   "metadata": {},
   "outputs": [],
   "source": [
    "query = '''\n",
    "    INSERT INTO food VALUES (?, ?, ?)\n",
    "'''\n",
    "\n",
    "# Data to insert\n",
    "data = [\n",
    "    ('Bo', 'Pizza', 'Peanut Butter'),\n",
    "    ('Haley', 'Steak', 'Crackers'),\n",
    "    ('Rizzo', 'Salmon', 'Dog Treats')\n",
    "]\n",
    "\n",
    "# Execute the prepared statement with the data\n",
    "c.executemany(query, data)\n",
    "conn.commit()\n",
    "\n",
    "#NOTE: The above query operates the same as below, but with an added security measure. More details below.\n",
    "# query = '''\n",
    "#         INSERT INTO food VALUES\n",
    "#         ('Bo', 'Pizza', 'Peanut Butter'),\n",
    "#           ('Haley', 'Steak', 'Crackers'),\n",
    "#           ('Rizzo', 'Salmon', 'Dog Treats')\n",
    "# '''\n",
    "\n",
    "# c.execute(query)"
   ]
  },
  {
   "cell_type": "markdown",
   "metadata": {},
   "source": [
    "Note that above is storing the SQL query in a variable and using `?` placeholders for new values to updated, storing the new values in a seperate list of tuple variable, and using a `c.executemany()` to run the query many times. This is called a prepared statement and is one of many ways to help protect against SQL injection which gives hackers access to records and allows them to execute malicious code and even delete your tables entirely. If someone were to try and escape the prepared statement it would result in an error. **It is always recommended to use prepared statements for any query involving dynamic input.** For more information about how to protect against SQL injection, see this [link](https://cheatsheetseries.owasp.org/cheatsheets/SQL_Injection_Prevention_Cheat_Sheet.html)."
   ]
  },
  {
   "cell_type": "markdown",
   "metadata": {},
   "source": [
    "To view a table, you have 3 options: `fetchone()` returns 1 result in a tuple, `fetchmany(n)` returns *n* number of results in a nested list, and `fetchall()` returns everything in a nested list."
   ]
  },
  {
   "cell_type": "code",
   "execution_count": 6,
   "metadata": {},
   "outputs": [
    {
     "data": {
      "text/plain": [
       "[('Bo', 'Pizza', 'Peanut Butter'),\n",
       " ('Haley', 'Steak', 'Crackers'),\n",
       " ('Rizzo', 'Salmon', 'Dog Treats')]"
      ]
     },
     "execution_count": 6,
     "metadata": {},
     "output_type": "execute_result"
    }
   ],
   "source": [
    "query = 'SELECT * FROM food'\n",
    "\n",
    "res = c.execute()\n",
    "res.fetchall()"
   ]
  },
  {
   "cell_type": "markdown",
   "metadata": {},
   "source": [
    "This also works in reverse if you need to write a pandas dataframes into a sqlite3 table."
   ]
  },
  {
   "cell_type": "code",
   "execution_count": 7,
   "metadata": {},
   "outputs": [
    {
     "data": {
      "text/plain": [
       "3"
      ]
     },
     "execution_count": 7,
     "metadata": {},
     "output_type": "execute_result"
    }
   ],
   "source": [
    "dic = {\n",
    "    'name': ['Bo', 'Haley', 'Rizzo'],\n",
    "    'college': ['Georgia Tech', 'SCAD', 'Bark University'],\n",
    "    'major': ['Analytics', 'Art Direction', 'Chasing Cats']\n",
    "}\n",
    "df = pd.DataFrame(dic)\n",
    "\n",
    "# Write the DataFrame to a table named 'school' and replace any like-named table with the pandas one\n",
    "df.to_sql('school', conn, if_exists='replace', index=False)"
   ]
  },
  {
   "cell_type": "markdown",
   "metadata": {},
   "source": [
    "You can also read sqlite tables into a pandas dataframe."
   ]
  },
  {
   "cell_type": "code",
   "execution_count": 8,
   "metadata": {},
   "outputs": [
    {
     "data": {
      "text/html": [
       "<div>\n",
       "<style scoped>\n",
       "    .dataframe tbody tr th:only-of-type {\n",
       "        vertical-align: middle;\n",
       "    }\n",
       "\n",
       "    .dataframe tbody tr th {\n",
       "        vertical-align: top;\n",
       "    }\n",
       "\n",
       "    .dataframe thead th {\n",
       "        text-align: right;\n",
       "    }\n",
       "</style>\n",
       "<table border=\"1\" class=\"dataframe\">\n",
       "  <thead>\n",
       "    <tr style=\"text-align: right;\">\n",
       "      <th></th>\n",
       "      <th>name</th>\n",
       "      <th>meal</th>\n",
       "      <th>snack</th>\n",
       "      <th>college</th>\n",
       "      <th>major</th>\n",
       "    </tr>\n",
       "  </thead>\n",
       "  <tbody>\n",
       "    <tr>\n",
       "      <th>0</th>\n",
       "      <td>Bo</td>\n",
       "      <td>Pizza</td>\n",
       "      <td>Peanut Butter</td>\n",
       "      <td>Georgia Tech</td>\n",
       "      <td>Analytics</td>\n",
       "    </tr>\n",
       "    <tr>\n",
       "      <th>1</th>\n",
       "      <td>Haley</td>\n",
       "      <td>Steak</td>\n",
       "      <td>Crackers</td>\n",
       "      <td>SCAD</td>\n",
       "      <td>Art Direction</td>\n",
       "    </tr>\n",
       "    <tr>\n",
       "      <th>2</th>\n",
       "      <td>Rizzo</td>\n",
       "      <td>Salmon</td>\n",
       "      <td>Dog Treats</td>\n",
       "      <td>Bark University</td>\n",
       "      <td>Chasing Cats</td>\n",
       "    </tr>\n",
       "  </tbody>\n",
       "</table>\n",
       "</div>"
      ],
      "text/plain": [
       "    name    meal          snack          college          major\n",
       "0     Bo   Pizza  Peanut Butter     Georgia Tech      Analytics\n",
       "1  Haley   Steak       Crackers             SCAD  Art Direction\n",
       "2  Rizzo  Salmon     Dog Treats  Bark University   Chasing Cats"
      ]
     },
     "execution_count": 8,
     "metadata": {},
     "output_type": "execute_result"
    }
   ],
   "source": [
    "query = '''\n",
    "SELECT food.name, food.meal, food.snack, school.college, school.major\n",
    "FROM food\n",
    "JOIN school ON food.name = school.name\n",
    "'''\n",
    "\n",
    "pd.read_sql(query, conn)"
   ]
  },
  {
   "cell_type": "markdown",
   "metadata": {},
   "source": [
    "## Wrapping Up"
   ]
  },
  {
   "cell_type": "markdown",
   "metadata": {},
   "source": [
    "Finally, when you're done with the database, you need to close your sql connection to free up memory and prevent any database locks."
   ]
  },
  {
   "cell_type": "code",
   "execution_count": 9,
   "metadata": {},
   "outputs": [],
   "source": [
    "conn.close()"
   ]
  }
 ],
 "metadata": {
  "kernelspec": {
   "display_name": "py311",
   "language": "python",
   "name": "python3"
  },
  "language_info": {
   "codemirror_mode": {
    "name": "ipython",
    "version": 3
   },
   "file_extension": ".py",
   "mimetype": "text/x-python",
   "name": "python",
   "nbconvert_exporter": "python",
   "pygments_lexer": "ipython3",
   "version": "3.11.8"
  }
 },
 "nbformat": 4,
 "nbformat_minor": 2
}
